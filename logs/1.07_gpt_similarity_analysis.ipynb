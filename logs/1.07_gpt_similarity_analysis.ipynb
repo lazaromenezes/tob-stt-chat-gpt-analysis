{
 "cells": [
  {
   "cell_type": "code",
   "execution_count": 1,
   "id": "ac8aa422-3693-431d-9ea2-36511252c227",
   "metadata": {},
   "outputs": [],
   "source": [
    "# prepare the datasets\n",
    "import pandas as pd"
   ]
  },
  {
   "cell_type": "code",
   "execution_count": 2,
   "id": "fcd0ef45-d67d-4d97-a013-872b697ab3f1",
   "metadata": {},
   "outputs": [
    {
     "data": {
      "text/html": [
       "<div>\n",
       "<style scoped>\n",
       "    .dataframe tbody tr th:only-of-type {\n",
       "        vertical-align: middle;\n",
       "    }\n",
       "\n",
       "    .dataframe tbody tr th {\n",
       "        vertical-align: top;\n",
       "    }\n",
       "\n",
       "    .dataframe thead th {\n",
       "        text-align: right;\n",
       "    }\n",
       "</style>\n",
       "<table border=\"1\" class=\"dataframe\">\n",
       "  <thead>\n",
       "    <tr style=\"text-align: right;\">\n",
       "      <th></th>\n",
       "      <th>index</th>\n",
       "      <th>user</th>\n",
       "      <th>question</th>\n",
       "      <th>question_class</th>\n",
       "      <th>question_cluster</th>\n",
       "      <th>answer_v1</th>\n",
       "      <th>answer_v2</th>\n",
       "      <th>v1_x_v2</th>\n",
       "    </tr>\n",
       "  </thead>\n",
       "  <tbody>\n",
       "    <tr>\n",
       "      <th>0</th>\n",
       "      <td>3</td>\n",
       "      <td>100</td>\n",
       "      <td>what is software testing</td>\n",
       "      <td>whQuestion</td>\n",
       "      <td>118</td>\n",
       "      <td>Software testing is an activity of software en...</td>\n",
       "      <td>Software testing is an activity of software en...</td>\n",
       "      <td>0.998822</td>\n",
       "    </tr>\n",
       "    <tr>\n",
       "      <th>1</th>\n",
       "      <td>4</td>\n",
       "      <td>100</td>\n",
       "      <td>what is structural testing</td>\n",
       "      <td>whQuestion</td>\n",
       "      <td>23</td>\n",
       "      <td>Structural testing (or White-Box testing) is a...</td>\n",
       "      <td>Structural testing (or White-Box testing) is a...</td>\n",
       "      <td>1.000000</td>\n",
       "    </tr>\n",
       "    <tr>\n",
       "      <th>2</th>\n",
       "      <td>5</td>\n",
       "      <td>100</td>\n",
       "      <td>what is a software technique</td>\n",
       "      <td>whQuestion</td>\n",
       "      <td>83</td>\n",
       "      <td>Sorry, I still can't answer that.. Could you a...</td>\n",
       "      <td>I don't understand what you mean</td>\n",
       "      <td>0.325859</td>\n",
       "    </tr>\n",
       "    <tr>\n",
       "      <th>3</th>\n",
       "      <td>6</td>\n",
       "      <td>100</td>\n",
       "      <td>what is system testing</td>\n",
       "      <td>whQuestion</td>\n",
       "      <td>29</td>\n",
       "      <td>System testing is a level of software testing ...</td>\n",
       "      <td>System testing is a level of software testing ...</td>\n",
       "      <td>1.000000</td>\n",
       "    </tr>\n",
       "    <tr>\n",
       "      <th>4</th>\n",
       "      <td>7</td>\n",
       "      <td>100</td>\n",
       "      <td>what is unit testing</td>\n",
       "      <td>whQuestion</td>\n",
       "      <td>136</td>\n",
       "      <td>Unit testing verifies the functioning in isola...</td>\n",
       "      <td>Unit testing verifies the functioning in isola...</td>\n",
       "      <td>1.000000</td>\n",
       "    </tr>\n",
       "    <tr>\n",
       "      <th>5</th>\n",
       "      <td>8</td>\n",
       "      <td>100</td>\n",
       "      <td>what is integration testing</td>\n",
       "      <td>whQuestion</td>\n",
       "      <td>263</td>\n",
       "      <td>Integration testing is the process of verifyin...</td>\n",
       "      <td>Integration testing is the process of verifyin...</td>\n",
       "      <td>1.000000</td>\n",
       "    </tr>\n",
       "    <tr>\n",
       "      <th>6</th>\n",
       "      <td>9</td>\n",
       "      <td>100</td>\n",
       "      <td>Can you give me an example of equivalence clas...</td>\n",
       "      <td>Clarify</td>\n",
       "      <td>213</td>\n",
       "      <td>Here is an example of an application of equiva...</td>\n",
       "      <td>Sorry, I didn't understand your question, coul...</td>\n",
       "      <td>0.045760</td>\n",
       "    </tr>\n",
       "    <tr>\n",
       "      <th>7</th>\n",
       "      <td>10</td>\n",
       "      <td>100</td>\n",
       "      <td>How do I apply equivalence class partitioning</td>\n",
       "      <td>whQuestion</td>\n",
       "      <td>188</td>\n",
       "      <td>The equivalence partitioning criterion divides...</td>\n",
       "      <td>Sorry, I didn't quite catch that</td>\n",
       "      <td>0.057074</td>\n",
       "    </tr>\n",
       "    <tr>\n",
       "      <th>8</th>\n",
       "      <td>11</td>\n",
       "      <td>100</td>\n",
       "      <td>What is verification</td>\n",
       "      <td>whQuestion</td>\n",
       "      <td>126</td>\n",
       "      <td>Sorry, I still can't answer that.. Could you a...</td>\n",
       "      <td>I don't understand what you mean</td>\n",
       "      <td>0.325859</td>\n",
       "    </tr>\n",
       "    <tr>\n",
       "      <th>9</th>\n",
       "      <td>12</td>\n",
       "      <td>100</td>\n",
       "      <td>what is validation</td>\n",
       "      <td>whQuestion</td>\n",
       "      <td>134</td>\n",
       "      <td>Sorry, I still can't answer that.. Could you a...</td>\n",
       "      <td>Sorry, I didn't quite catch that</td>\n",
       "      <td>0.269803</td>\n",
       "    </tr>\n",
       "  </tbody>\n",
       "</table>\n",
       "</div>"
      ],
      "text/plain": [
       "   index  user                                           question  \\\n",
       "0      3   100                           what is software testing   \n",
       "1      4   100                         what is structural testing   \n",
       "2      5   100                       what is a software technique   \n",
       "3      6   100                             what is system testing   \n",
       "4      7   100                               what is unit testing   \n",
       "5      8   100                        what is integration testing   \n",
       "6      9   100  Can you give me an example of equivalence clas...   \n",
       "7     10   100      How do I apply equivalence class partitioning   \n",
       "8     11   100                               What is verification   \n",
       "9     12   100                                 what is validation   \n",
       "\n",
       "  question_class  question_cluster  \\\n",
       "0     whQuestion               118   \n",
       "1     whQuestion                23   \n",
       "2     whQuestion                83   \n",
       "3     whQuestion                29   \n",
       "4     whQuestion               136   \n",
       "5     whQuestion               263   \n",
       "6        Clarify               213   \n",
       "7     whQuestion               188   \n",
       "8     whQuestion               126   \n",
       "9     whQuestion               134   \n",
       "\n",
       "                                           answer_v1  \\\n",
       "0  Software testing is an activity of software en...   \n",
       "1  Structural testing (or White-Box testing) is a...   \n",
       "2  Sorry, I still can't answer that.. Could you a...   \n",
       "3  System testing is a level of software testing ...   \n",
       "4  Unit testing verifies the functioning in isola...   \n",
       "5  Integration testing is the process of verifyin...   \n",
       "6  Here is an example of an application of equiva...   \n",
       "7  The equivalence partitioning criterion divides...   \n",
       "8  Sorry, I still can't answer that.. Could you a...   \n",
       "9  Sorry, I still can't answer that.. Could you a...   \n",
       "\n",
       "                                           answer_v2   v1_x_v2  \n",
       "0  Software testing is an activity of software en...  0.998822  \n",
       "1  Structural testing (or White-Box testing) is a...  1.000000  \n",
       "2                   I don't understand what you mean  0.325859  \n",
       "3  System testing is a level of software testing ...  1.000000  \n",
       "4  Unit testing verifies the functioning in isola...  1.000000  \n",
       "5  Integration testing is the process of verifyin...  1.000000  \n",
       "6  Sorry, I didn't understand your question, coul...  0.045760  \n",
       "7                   Sorry, I didn't quite catch that  0.057074  \n",
       "8                   I don't understand what you mean  0.325859  \n",
       "9                   Sorry, I didn't quite catch that  0.269803  "
      ]
     },
     "execution_count": 2,
     "metadata": {},
     "output_type": "execute_result"
    }
   ],
   "source": [
    "tob_data = pd.read_csv('tob_domain_only.csv')\n",
    "\n",
    "tob_data.head(10)"
   ]
  },
  {
   "cell_type": "code",
   "execution_count": 3,
   "id": "2239592f-cc38-402e-96db-cbc768fab92d",
   "metadata": {},
   "outputs": [
    {
     "data": {
      "text/html": [
       "<div>\n",
       "<style scoped>\n",
       "    .dataframe tbody tr th:only-of-type {\n",
       "        vertical-align: middle;\n",
       "    }\n",
       "\n",
       "    .dataframe tbody tr th {\n",
       "        vertical-align: top;\n",
       "    }\n",
       "\n",
       "    .dataframe thead th {\n",
       "        text-align: right;\n",
       "    }\n",
       "</style>\n",
       "<table border=\"1\" class=\"dataframe\">\n",
       "  <thead>\n",
       "    <tr style=\"text-align: right;\">\n",
       "      <th></th>\n",
       "      <th>Unnamed: 0</th>\n",
       "      <th>cluster</th>\n",
       "      <th>question</th>\n",
       "      <th>answer:gpt-3.5-turbo-16k</th>\n",
       "    </tr>\n",
       "  </thead>\n",
       "  <tbody>\n",
       "    <tr>\n",
       "      <th>0</th>\n",
       "      <td>217</td>\n",
       "      <td>118</td>\n",
       "      <td>what is software testing</td>\n",
       "      <td>Software testing is the process of evaluating ...</td>\n",
       "    </tr>\n",
       "    <tr>\n",
       "      <th>1</th>\n",
       "      <td>1064</td>\n",
       "      <td>118</td>\n",
       "      <td>what is software testing</td>\n",
       "      <td>Software testing is the process of evaluating ...</td>\n",
       "    </tr>\n",
       "    <tr>\n",
       "      <th>2</th>\n",
       "      <td>601</td>\n",
       "      <td>118</td>\n",
       "      <td>what is software testing</td>\n",
       "      <td>Software testing is the process of evaluating ...</td>\n",
       "    </tr>\n",
       "    <tr>\n",
       "      <th>3</th>\n",
       "      <td>1675</td>\n",
       "      <td>118</td>\n",
       "      <td>What Is software testing</td>\n",
       "      <td>Software testing is the process of evaluating ...</td>\n",
       "    </tr>\n",
       "    <tr>\n",
       "      <th>4</th>\n",
       "      <td>1239</td>\n",
       "      <td>118</td>\n",
       "      <td>what is software testing</td>\n",
       "      <td>Software testing is the process of evaluating ...</td>\n",
       "    </tr>\n",
       "    <tr>\n",
       "      <th>5</th>\n",
       "      <td>1701</td>\n",
       "      <td>118</td>\n",
       "      <td>What is software test</td>\n",
       "      <td>Software testing is a process of evaluating a ...</td>\n",
       "    </tr>\n",
       "    <tr>\n",
       "      <th>6</th>\n",
       "      <td>1674</td>\n",
       "      <td>118</td>\n",
       "      <td>What Is software test</td>\n",
       "      <td>Software testing is the process of evaluating ...</td>\n",
       "    </tr>\n",
       "    <tr>\n",
       "      <th>7</th>\n",
       "      <td>270</td>\n",
       "      <td>118</td>\n",
       "      <td>What is software testing</td>\n",
       "      <td>Software testing is a process used to evaluate...</td>\n",
       "    </tr>\n",
       "    <tr>\n",
       "      <th>8</th>\n",
       "      <td>1398</td>\n",
       "      <td>162</td>\n",
       "      <td>What is a test case?</td>\n",
       "      <td>A test case is a set of conditions or inputs, ...</td>\n",
       "    </tr>\n",
       "    <tr>\n",
       "      <th>9</th>\n",
       "      <td>1562</td>\n",
       "      <td>162</td>\n",
       "      <td>i want to know what is a test case</td>\n",
       "      <td>A test case refers to a detailed and specific ...</td>\n",
       "    </tr>\n",
       "  </tbody>\n",
       "</table>\n",
       "</div>"
      ],
      "text/plain": [
       "   Unnamed: 0  cluster                            question  \\\n",
       "0         217      118            what is software testing   \n",
       "1        1064      118            what is software testing   \n",
       "2         601      118            what is software testing   \n",
       "3        1675      118            What Is software testing   \n",
       "4        1239      118            what is software testing   \n",
       "5        1701      118               What is software test   \n",
       "6        1674      118               What Is software test   \n",
       "7         270      118            What is software testing   \n",
       "8        1398      162                What is a test case?   \n",
       "9        1562      162  i want to know what is a test case   \n",
       "\n",
       "                            answer:gpt-3.5-turbo-16k  \n",
       "0  Software testing is the process of evaluating ...  \n",
       "1  Software testing is the process of evaluating ...  \n",
       "2  Software testing is the process of evaluating ...  \n",
       "3  Software testing is the process of evaluating ...  \n",
       "4  Software testing is the process of evaluating ...  \n",
       "5  Software testing is a process of evaluating a ...  \n",
       "6  Software testing is the process of evaluating ...  \n",
       "7  Software testing is a process used to evaluate...  \n",
       "8  A test case is a set of conditions or inputs, ...  \n",
       "9  A test case refers to a detailed and specific ...  "
      ]
     },
     "execution_count": 3,
     "metadata": {},
     "output_type": "execute_result"
    }
   ],
   "source": [
    "gpt_data = pd.read_csv('gpt_answers_by_cluster_sample.csv')\n",
    "\n",
    "gpt_data.head(10)"
   ]
  },
  {
   "cell_type": "code",
   "execution_count": 4,
   "id": "8d40f682-7983-460a-a0c4-89872a58202e",
   "metadata": {},
   "outputs": [],
   "source": [
    "def pick_random_gpt_answer_for_cluster(gpt_df, cluster):\n",
    "\n",
    "    return gpt_df[gpt_df['cluster'] == cluster]['answer:gpt-3.5-turbo-16k'].sample(1).values[0]"
   ]
  },
  {
   "cell_type": "code",
   "execution_count": 5,
   "id": "1c7465f7-5814-41bb-aac2-ebfbe9d8c3ff",
   "metadata": {},
   "outputs": [
    {
     "data": {
      "text/plain": [
       "'A test case is a set of specific conditions or steps devised to validate or verify the functionality of a software application or a system. It outlines the inputs, actions, and expected outcomes for a particular feature or functionality to ensure that the software functions correctly. Test cases are designed to cover a variety of scenarios, including both typical and exceptional situations, in order to thoroughly test the software and identify any potential defects or issues.'"
      ]
     },
     "execution_count": 5,
     "metadata": {},
     "output_type": "execute_result"
    }
   ],
   "source": [
    "pick_random_gpt_answer_for_cluster(gpt_data, 162)"
   ]
  },
  {
   "cell_type": "code",
   "execution_count": 6,
   "id": "80045890-bb65-4e3d-8cdf-cc9d5509d596",
   "metadata": {},
   "outputs": [],
   "source": [
    "def populate_with_random_gpt_from_cluster(gpt_df, cluster):\n",
    "\n",
    "    return pick_random_gpt_answer_for_cluster(gpt_df, cluster)"
   ]
  },
  {
   "cell_type": "code",
   "execution_count": 7,
   "id": "e08cf8a7-c0c0-40c5-803e-bdf12890e92d",
   "metadata": {},
   "outputs": [
    {
     "data": {
      "text/html": [
       "<div>\n",
       "<style scoped>\n",
       "    .dataframe tbody tr th:only-of-type {\n",
       "        vertical-align: middle;\n",
       "    }\n",
       "\n",
       "    .dataframe tbody tr th {\n",
       "        vertical-align: top;\n",
       "    }\n",
       "\n",
       "    .dataframe thead th {\n",
       "        text-align: right;\n",
       "    }\n",
       "</style>\n",
       "<table border=\"1\" class=\"dataframe\">\n",
       "  <thead>\n",
       "    <tr style=\"text-align: right;\">\n",
       "      <th></th>\n",
       "      <th>index</th>\n",
       "      <th>user</th>\n",
       "      <th>question</th>\n",
       "      <th>question_class</th>\n",
       "      <th>question_cluster</th>\n",
       "      <th>answer_v1</th>\n",
       "      <th>answer_v2</th>\n",
       "      <th>v1_x_v2</th>\n",
       "      <th>cluster_gpt_answer</th>\n",
       "    </tr>\n",
       "  </thead>\n",
       "  <tbody>\n",
       "    <tr>\n",
       "      <th>0</th>\n",
       "      <td>3</td>\n",
       "      <td>100</td>\n",
       "      <td>what is software testing</td>\n",
       "      <td>whQuestion</td>\n",
       "      <td>118</td>\n",
       "      <td>Software testing is an activity of software en...</td>\n",
       "      <td>Software testing is an activity of software en...</td>\n",
       "      <td>0.998822</td>\n",
       "      <td>Software testing is the process of evaluating ...</td>\n",
       "    </tr>\n",
       "    <tr>\n",
       "      <th>1</th>\n",
       "      <td>4</td>\n",
       "      <td>100</td>\n",
       "      <td>what is structural testing</td>\n",
       "      <td>whQuestion</td>\n",
       "      <td>23</td>\n",
       "      <td>Structural testing (or White-Box testing) is a...</td>\n",
       "      <td>Structural testing (or White-Box testing) is a...</td>\n",
       "      <td>1.000000</td>\n",
       "      <td>Structural testing is a type of software testi...</td>\n",
       "    </tr>\n",
       "    <tr>\n",
       "      <th>2</th>\n",
       "      <td>5</td>\n",
       "      <td>100</td>\n",
       "      <td>what is a software technique</td>\n",
       "      <td>whQuestion</td>\n",
       "      <td>83</td>\n",
       "      <td>Sorry, I still can't answer that.. Could you a...</td>\n",
       "      <td>I don't understand what you mean</td>\n",
       "      <td>0.325859</td>\n",
       "      <td>Software techniques are the methods and practi...</td>\n",
       "    </tr>\n",
       "    <tr>\n",
       "      <th>3</th>\n",
       "      <td>6</td>\n",
       "      <td>100</td>\n",
       "      <td>what is system testing</td>\n",
       "      <td>whQuestion</td>\n",
       "      <td>29</td>\n",
       "      <td>System testing is a level of software testing ...</td>\n",
       "      <td>System testing is a level of software testing ...</td>\n",
       "      <td>1.000000</td>\n",
       "      <td>System testing is a type of software testing t...</td>\n",
       "    </tr>\n",
       "    <tr>\n",
       "      <th>4</th>\n",
       "      <td>7</td>\n",
       "      <td>100</td>\n",
       "      <td>what is unit testing</td>\n",
       "      <td>whQuestion</td>\n",
       "      <td>136</td>\n",
       "      <td>Unit testing verifies the functioning in isola...</td>\n",
       "      <td>Unit testing verifies the functioning in isola...</td>\n",
       "      <td>1.000000</td>\n",
       "      <td>Unit testing is a software testing technique t...</td>\n",
       "    </tr>\n",
       "  </tbody>\n",
       "</table>\n",
       "</div>"
      ],
      "text/plain": [
       "   index  user                      question question_class  question_cluster  \\\n",
       "0      3   100      what is software testing     whQuestion               118   \n",
       "1      4   100    what is structural testing     whQuestion                23   \n",
       "2      5   100  what is a software technique     whQuestion                83   \n",
       "3      6   100        what is system testing     whQuestion                29   \n",
       "4      7   100          what is unit testing     whQuestion               136   \n",
       "\n",
       "                                           answer_v1  \\\n",
       "0  Software testing is an activity of software en...   \n",
       "1  Structural testing (or White-Box testing) is a...   \n",
       "2  Sorry, I still can't answer that.. Could you a...   \n",
       "3  System testing is a level of software testing ...   \n",
       "4  Unit testing verifies the functioning in isola...   \n",
       "\n",
       "                                           answer_v2   v1_x_v2  \\\n",
       "0  Software testing is an activity of software en...  0.998822   \n",
       "1  Structural testing (or White-Box testing) is a...  1.000000   \n",
       "2                   I don't understand what you mean  0.325859   \n",
       "3  System testing is a level of software testing ...  1.000000   \n",
       "4  Unit testing verifies the functioning in isola...  1.000000   \n",
       "\n",
       "                                  cluster_gpt_answer  \n",
       "0  Software testing is the process of evaluating ...  \n",
       "1  Structural testing is a type of software testi...  \n",
       "2  Software techniques are the methods and practi...  \n",
       "3  System testing is a type of software testing t...  \n",
       "4  Unit testing is a software testing technique t...  "
      ]
     },
     "execution_count": 7,
     "metadata": {},
     "output_type": "execute_result"
    }
   ],
   "source": [
    "tob_data['cluster_gpt_answer'] = tob_data.apply(lambda df: populate_with_random_gpt_from_cluster(gpt_data, df['question_cluster']), axis=1)\n",
    "\n",
    "tob_data.head()"
   ]
  },
  {
   "cell_type": "code",
   "execution_count": 8,
   "id": "459706fc-689e-4a52-a29f-9365dab419ca",
   "metadata": {},
   "outputs": [
    {
     "data": {
      "application/vnd.jupyter.widget-view+json": {
       "model_id": "cbbcb5c437d04bce9abaf0fe8ed9a8fd",
       "version_major": 2,
       "version_minor": 0
      },
      "text/plain": [
       "Downloading (…)a8e1d/.gitattributes:   0%|          | 0.00/1.18k [00:00<?, ?B/s]"
      ]
     },
     "metadata": {},
     "output_type": "display_data"
    },
    {
     "data": {
      "application/vnd.jupyter.widget-view+json": {
       "model_id": "5bb59a8295094532b7fc1c04f0ca229c",
       "version_major": 2,
       "version_minor": 0
      },
      "text/plain": [
       "Downloading (…)_Pooling/config.json:   0%|          | 0.00/190 [00:00<?, ?B/s]"
      ]
     },
     "metadata": {},
     "output_type": "display_data"
    },
    {
     "data": {
      "application/vnd.jupyter.widget-view+json": {
       "model_id": "6dad07a74c624438b2fd47b8dd8a0a2c",
       "version_major": 2,
       "version_minor": 0
      },
      "text/plain": [
       "Downloading (…)b20bca8e1d/README.md:   0%|          | 0.00/10.6k [00:00<?, ?B/s]"
      ]
     },
     "metadata": {},
     "output_type": "display_data"
    },
    {
     "data": {
      "application/vnd.jupyter.widget-view+json": {
       "model_id": "8159bad3ed4140f99695fd6088a646b6",
       "version_major": 2,
       "version_minor": 0
      },
      "text/plain": [
       "Downloading (…)0bca8e1d/config.json:   0%|          | 0.00/571 [00:00<?, ?B/s]"
      ]
     },
     "metadata": {},
     "output_type": "display_data"
    },
    {
     "data": {
      "application/vnd.jupyter.widget-view+json": {
       "model_id": "77ea466b0276474f956dc2f9dd43125f",
       "version_major": 2,
       "version_minor": 0
      },
      "text/plain": [
       "Downloading (…)ce_transformers.json:   0%|          | 0.00/116 [00:00<?, ?B/s]"
      ]
     },
     "metadata": {},
     "output_type": "display_data"
    },
    {
     "data": {
      "application/vnd.jupyter.widget-view+json": {
       "model_id": "7e1691991c894314baa26a5edfd6e42d",
       "version_major": 2,
       "version_minor": 0
      },
      "text/plain": [
       "Downloading (…)e1d/data_config.json:   0%|          | 0.00/39.3k [00:00<?, ?B/s]"
      ]
     },
     "metadata": {},
     "output_type": "display_data"
    },
    {
     "data": {
      "application/vnd.jupyter.widget-view+json": {
       "model_id": "abbb04de7f034262a592e8a2ac517568",
       "version_major": 2,
       "version_minor": 0
      },
      "text/plain": [
       "Downloading pytorch_model.bin:   0%|          | 0.00/438M [00:00<?, ?B/s]"
      ]
     },
     "metadata": {},
     "output_type": "display_data"
    },
    {
     "data": {
      "application/vnd.jupyter.widget-view+json": {
       "model_id": "78ad0866d3c64ec3943bc82274bb7370",
       "version_major": 2,
       "version_minor": 0
      },
      "text/plain": [
       "Downloading (…)nce_bert_config.json:   0%|          | 0.00/53.0 [00:00<?, ?B/s]"
      ]
     },
     "metadata": {},
     "output_type": "display_data"
    },
    {
     "data": {
      "application/vnd.jupyter.widget-view+json": {
       "model_id": "e4bd0d28fb15471db56450ac360eeb82",
       "version_major": 2,
       "version_minor": 0
      },
      "text/plain": [
       "Downloading (…)cial_tokens_map.json:   0%|          | 0.00/239 [00:00<?, ?B/s]"
      ]
     },
     "metadata": {},
     "output_type": "display_data"
    },
    {
     "data": {
      "application/vnd.jupyter.widget-view+json": {
       "model_id": "6bdc82518b1d4f40a9eb72abfd28348f",
       "version_major": 2,
       "version_minor": 0
      },
      "text/plain": [
       "Downloading (…)a8e1d/tokenizer.json:   0%|          | 0.00/466k [00:00<?, ?B/s]"
      ]
     },
     "metadata": {},
     "output_type": "display_data"
    },
    {
     "data": {
      "application/vnd.jupyter.widget-view+json": {
       "model_id": "b42e0e1f69574cf99fb9e9a0a7c3ca7b",
       "version_major": 2,
       "version_minor": 0
      },
      "text/plain": [
       "Downloading (…)okenizer_config.json:   0%|          | 0.00/363 [00:00<?, ?B/s]"
      ]
     },
     "metadata": {},
     "output_type": "display_data"
    },
    {
     "data": {
      "application/vnd.jupyter.widget-view+json": {
       "model_id": "59903e48ed974c8eab5edfa06d52b102",
       "version_major": 2,
       "version_minor": 0
      },
      "text/plain": [
       "Downloading (…)8e1d/train_script.py:   0%|          | 0.00/13.1k [00:00<?, ?B/s]"
      ]
     },
     "metadata": {},
     "output_type": "display_data"
    },
    {
     "data": {
      "application/vnd.jupyter.widget-view+json": {
       "model_id": "938173473ab4455d819608a3d9aeee48",
       "version_major": 2,
       "version_minor": 0
      },
      "text/plain": [
       "Downloading (…)b20bca8e1d/vocab.txt:   0%|          | 0.00/232k [00:00<?, ?B/s]"
      ]
     },
     "metadata": {},
     "output_type": "display_data"
    },
    {
     "data": {
      "application/vnd.jupyter.widget-view+json": {
       "model_id": "68535f23987142e381b2395a23a88a39",
       "version_major": 2,
       "version_minor": 0
      },
      "text/plain": [
       "Downloading (…)bca8e1d/modules.json:   0%|          | 0.00/349 [00:00<?, ?B/s]"
      ]
     },
     "metadata": {},
     "output_type": "display_data"
    }
   ],
   "source": [
    "# create SentenceTransformers encoder\n",
    "\n",
    "from sentence_transformers import SentenceTransformer, util\n",
    "\n",
    "encoder = SentenceTransformer('all-mpnet-base-v2')"
   ]
  },
  {
   "cell_type": "code",
   "execution_count": 9,
   "id": "23693c8b-3ac8-4541-9371-cf2117038528",
   "metadata": {},
   "outputs": [],
   "source": [
    "# calculate and cache embedings\n",
    "\n",
    "v1_embedings = encoder.encode(tob_data['answer_v1'])\n",
    "\n"
   ]
  },
  {
   "cell_type": "code",
   "execution_count": 10,
   "id": "3ce6388f-59f0-49c3-a1a2-437dfea1d8e7",
   "metadata": {},
   "outputs": [],
   "source": [
    "v2_embedings = encoder.encode(tob_data['answer_v2'])\n"
   ]
  },
  {
   "cell_type": "code",
   "execution_count": 11,
   "id": "64e47261-080e-4697-ac34-965b24f6fefa",
   "metadata": {},
   "outputs": [],
   "source": [
    "gpt_embedings = encoder.encode(tob_data['cluster_gpt_answer'])"
   ]
  },
  {
   "cell_type": "code",
   "execution_count": 12,
   "id": "77a38649-4c04-4091-a473-24871b814734",
   "metadata": {},
   "outputs": [],
   "source": [
    "def compare_embedings(base, alternate):\n",
    "    cosine_similarity = util.cos_sim(base, alternate)\n",
    "\n",
    "    return cosine_similarity\n",
    "    \n",
    "\n"
   ]
  },
  {
   "cell_type": "code",
   "execution_count": 21,
   "id": "78a46baa-52f0-4721-8e60-a5a0abea332a",
   "metadata": {},
   "outputs": [],
   "source": [
    "v1_v2 = [compare_embedings(v1, v2).item() for v1, v2 in zip(v1_embedings, v2_embedings)]\n",
    "\n",
    "tob_data['v1_x_v2'] = v1_v2"
   ]
  },
  {
   "cell_type": "code",
   "execution_count": 22,
   "id": "ea1036e9-2924-4195-a30b-034bf1868cbe",
   "metadata": {},
   "outputs": [],
   "source": [
    "v1_gpt = [compare_embedings(v1, gpt).item() for v1, gpt in zip(v1_embedings, gpt_embedings)]\n",
    "\n",
    "tob_data['v1_x_gpt'] = v1_gpt"
   ]
  },
  {
   "cell_type": "code",
   "execution_count": 25,
   "id": "196c0a81-b2ef-41e3-a50d-b4a80788f38b",
   "metadata": {},
   "outputs": [],
   "source": [
    "v2_gpt = [compare_embedings(v2, gpt).item() for v2, gpt in zip(v2_embedings, gpt_embedings)]\n",
    "\n",
    "tob_data['v2_x_gpt'] = v2_gpt"
   ]
  },
  {
   "cell_type": "code",
   "execution_count": 26,
   "id": "f3fa79e7-40b1-4ced-b27e-7431600b2e76",
   "metadata": {},
   "outputs": [
    {
     "data": {
      "text/html": [
       "<div>\n",
       "<style scoped>\n",
       "    .dataframe tbody tr th:only-of-type {\n",
       "        vertical-align: middle;\n",
       "    }\n",
       "\n",
       "    .dataframe tbody tr th {\n",
       "        vertical-align: top;\n",
       "    }\n",
       "\n",
       "    .dataframe thead th {\n",
       "        text-align: right;\n",
       "    }\n",
       "</style>\n",
       "<table border=\"1\" class=\"dataframe\">\n",
       "  <thead>\n",
       "    <tr style=\"text-align: right;\">\n",
       "      <th></th>\n",
       "      <th>index</th>\n",
       "      <th>user</th>\n",
       "      <th>question</th>\n",
       "      <th>question_class</th>\n",
       "      <th>question_cluster</th>\n",
       "      <th>answer_v1</th>\n",
       "      <th>answer_v2</th>\n",
       "      <th>v1_x_v2</th>\n",
       "      <th>cluster_gpt_answer</th>\n",
       "      <th>v1_x_gpt</th>\n",
       "      <th>v2_x_gpt</th>\n",
       "    </tr>\n",
       "  </thead>\n",
       "  <tbody>\n",
       "    <tr>\n",
       "      <th>0</th>\n",
       "      <td>3</td>\n",
       "      <td>100</td>\n",
       "      <td>what is software testing</td>\n",
       "      <td>whQuestion</td>\n",
       "      <td>118</td>\n",
       "      <td>Software testing is an activity of software en...</td>\n",
       "      <td>Software testing is an activity of software en...</td>\n",
       "      <td>0.998822</td>\n",
       "      <td>Software testing is the process of evaluating ...</td>\n",
       "      <td>0.913018</td>\n",
       "      <td>0.914319</td>\n",
       "    </tr>\n",
       "    <tr>\n",
       "      <th>1</th>\n",
       "      <td>4</td>\n",
       "      <td>100</td>\n",
       "      <td>what is structural testing</td>\n",
       "      <td>whQuestion</td>\n",
       "      <td>23</td>\n",
       "      <td>Structural testing (or White-Box testing) is a...</td>\n",
       "      <td>Structural testing (or White-Box testing) is a...</td>\n",
       "      <td>1.000000</td>\n",
       "      <td>Structural testing is a type of software testi...</td>\n",
       "      <td>0.869358</td>\n",
       "      <td>0.869358</td>\n",
       "    </tr>\n",
       "    <tr>\n",
       "      <th>2</th>\n",
       "      <td>5</td>\n",
       "      <td>100</td>\n",
       "      <td>what is a software technique</td>\n",
       "      <td>whQuestion</td>\n",
       "      <td>83</td>\n",
       "      <td>Sorry, I still can't answer that.. Could you a...</td>\n",
       "      <td>I don't understand what you mean</td>\n",
       "      <td>0.325859</td>\n",
       "      <td>Software techniques are the methods and practi...</td>\n",
       "      <td>0.130576</td>\n",
       "      <td>0.054581</td>\n",
       "    </tr>\n",
       "    <tr>\n",
       "      <th>3</th>\n",
       "      <td>6</td>\n",
       "      <td>100</td>\n",
       "      <td>what is system testing</td>\n",
       "      <td>whQuestion</td>\n",
       "      <td>29</td>\n",
       "      <td>System testing is a level of software testing ...</td>\n",
       "      <td>System testing is a level of software testing ...</td>\n",
       "      <td>1.000000</td>\n",
       "      <td>System testing is a type of software testing t...</td>\n",
       "      <td>0.975843</td>\n",
       "      <td>0.975843</td>\n",
       "    </tr>\n",
       "    <tr>\n",
       "      <th>4</th>\n",
       "      <td>7</td>\n",
       "      <td>100</td>\n",
       "      <td>what is unit testing</td>\n",
       "      <td>whQuestion</td>\n",
       "      <td>136</td>\n",
       "      <td>Unit testing verifies the functioning in isola...</td>\n",
       "      <td>Unit testing verifies the functioning in isola...</td>\n",
       "      <td>1.000000</td>\n",
       "      <td>Unit testing is a software testing technique t...</td>\n",
       "      <td>0.793993</td>\n",
       "      <td>0.793993</td>\n",
       "    </tr>\n",
       "    <tr>\n",
       "      <th>...</th>\n",
       "      <td>...</td>\n",
       "      <td>...</td>\n",
       "      <td>...</td>\n",
       "      <td>...</td>\n",
       "      <td>...</td>\n",
       "      <td>...</td>\n",
       "      <td>...</td>\n",
       "      <td>...</td>\n",
       "      <td>...</td>\n",
       "      <td>...</td>\n",
       "      <td>...</td>\n",
       "    </tr>\n",
       "    <tr>\n",
       "      <th>1817</th>\n",
       "      <td>2983</td>\n",
       "      <td>98</td>\n",
       "      <td>what is state transition testing</td>\n",
       "      <td>whQuestion</td>\n",
       "      <td>67</td>\n",
       "      <td>It is a criteria within functional testing, bu...</td>\n",
       "      <td>I don't understand what you mean</td>\n",
       "      <td>0.136184</td>\n",
       "      <td>A state is a defined territory that has its ow...</td>\n",
       "      <td>0.039908</td>\n",
       "      <td>0.020009</td>\n",
       "    </tr>\n",
       "    <tr>\n",
       "      <th>1818</th>\n",
       "      <td>2984</td>\n",
       "      <td>98</td>\n",
       "      <td>what is the definition of state transition tes...</td>\n",
       "      <td>whQuestion</td>\n",
       "      <td>67</td>\n",
       "      <td>It is a criteria within functional testing, bu...</td>\n",
       "      <td>I don't understand what you mean</td>\n",
       "      <td>0.136184</td>\n",
       "      <td>A state is a defined territory that has its ow...</td>\n",
       "      <td>0.039908</td>\n",
       "      <td>0.020009</td>\n",
       "    </tr>\n",
       "    <tr>\n",
       "      <th>1819</th>\n",
       "      <td>2985</td>\n",
       "      <td>98</td>\n",
       "      <td>what is graph testing</td>\n",
       "      <td>whQuestion</td>\n",
       "      <td>7</td>\n",
       "      <td>Software testing is an activity of software en...</td>\n",
       "      <td>I don't understand what you mean</td>\n",
       "      <td>-0.001124</td>\n",
       "      <td>Cause-effect graphing is a technique used in s...</td>\n",
       "      <td>0.420994</td>\n",
       "      <td>0.086755</td>\n",
       "    </tr>\n",
       "    <tr>\n",
       "      <th>1820</th>\n",
       "      <td>2986</td>\n",
       "      <td>98</td>\n",
       "      <td>what is graph matrix testing</td>\n",
       "      <td>whQuestion</td>\n",
       "      <td>7</td>\n",
       "      <td>It is a criteria within functional testing, bu...</td>\n",
       "      <td>Software testing is an activity of software en...</td>\n",
       "      <td>0.409774</td>\n",
       "      <td>Cause-effect graphing is a technique used in s...</td>\n",
       "      <td>0.421582</td>\n",
       "      <td>0.420994</td>\n",
       "    </tr>\n",
       "    <tr>\n",
       "      <th>1821</th>\n",
       "      <td>2988</td>\n",
       "      <td>99</td>\n",
       "      <td>Talk to me about software testing activity</td>\n",
       "      <td>Statement</td>\n",
       "      <td>144</td>\n",
       "      <td>Sorry, I still can't answer that.. Could you a...</td>\n",
       "      <td>Sorry, I didn't quite catch that</td>\n",
       "      <td>0.269803</td>\n",
       "      <td>Software testing is a crucial activity that en...</td>\n",
       "      <td>0.086416</td>\n",
       "      <td>-0.084787</td>\n",
       "    </tr>\n",
       "  </tbody>\n",
       "</table>\n",
       "<p>1822 rows × 11 columns</p>\n",
       "</div>"
      ],
      "text/plain": [
       "      index  user                                           question  \\\n",
       "0         3   100                           what is software testing   \n",
       "1         4   100                         what is structural testing   \n",
       "2         5   100                       what is a software technique   \n",
       "3         6   100                             what is system testing   \n",
       "4         7   100                               what is unit testing   \n",
       "...     ...   ...                                                ...   \n",
       "1817   2983    98                   what is state transition testing   \n",
       "1818   2984    98  what is the definition of state transition tes...   \n",
       "1819   2985    98                              what is graph testing   \n",
       "1820   2986    98                       what is graph matrix testing   \n",
       "1821   2988    99         Talk to me about software testing activity   \n",
       "\n",
       "     question_class  question_cluster  \\\n",
       "0        whQuestion               118   \n",
       "1        whQuestion                23   \n",
       "2        whQuestion                83   \n",
       "3        whQuestion                29   \n",
       "4        whQuestion               136   \n",
       "...             ...               ...   \n",
       "1817     whQuestion                67   \n",
       "1818     whQuestion                67   \n",
       "1819     whQuestion                 7   \n",
       "1820     whQuestion                 7   \n",
       "1821      Statement               144   \n",
       "\n",
       "                                              answer_v1  \\\n",
       "0     Software testing is an activity of software en...   \n",
       "1     Structural testing (or White-Box testing) is a...   \n",
       "2     Sorry, I still can't answer that.. Could you a...   \n",
       "3     System testing is a level of software testing ...   \n",
       "4     Unit testing verifies the functioning in isola...   \n",
       "...                                                 ...   \n",
       "1817  It is a criteria within functional testing, bu...   \n",
       "1818  It is a criteria within functional testing, bu...   \n",
       "1819  Software testing is an activity of software en...   \n",
       "1820  It is a criteria within functional testing, bu...   \n",
       "1821  Sorry, I still can't answer that.. Could you a...   \n",
       "\n",
       "                                              answer_v2   v1_x_v2  \\\n",
       "0     Software testing is an activity of software en...  0.998822   \n",
       "1     Structural testing (or White-Box testing) is a...  1.000000   \n",
       "2                      I don't understand what you mean  0.325859   \n",
       "3     System testing is a level of software testing ...  1.000000   \n",
       "4     Unit testing verifies the functioning in isola...  1.000000   \n",
       "...                                                 ...       ...   \n",
       "1817                   I don't understand what you mean  0.136184   \n",
       "1818                   I don't understand what you mean  0.136184   \n",
       "1819                   I don't understand what you mean -0.001124   \n",
       "1820  Software testing is an activity of software en...  0.409774   \n",
       "1821                   Sorry, I didn't quite catch that  0.269803   \n",
       "\n",
       "                                     cluster_gpt_answer  v1_x_gpt  v2_x_gpt  \n",
       "0     Software testing is the process of evaluating ...  0.913018  0.914319  \n",
       "1     Structural testing is a type of software testi...  0.869358  0.869358  \n",
       "2     Software techniques are the methods and practi...  0.130576  0.054581  \n",
       "3     System testing is a type of software testing t...  0.975843  0.975843  \n",
       "4     Unit testing is a software testing technique t...  0.793993  0.793993  \n",
       "...                                                 ...       ...       ...  \n",
       "1817  A state is a defined territory that has its ow...  0.039908  0.020009  \n",
       "1818  A state is a defined territory that has its ow...  0.039908  0.020009  \n",
       "1819  Cause-effect graphing is a technique used in s...  0.420994  0.086755  \n",
       "1820  Cause-effect graphing is a technique used in s...  0.421582  0.420994  \n",
       "1821  Software testing is a crucial activity that en...  0.086416 -0.084787  \n",
       "\n",
       "[1822 rows x 11 columns]"
      ]
     },
     "execution_count": 26,
     "metadata": {},
     "output_type": "execute_result"
    }
   ],
   "source": [
    "tob_data"
   ]
  },
  {
   "cell_type": "code",
   "execution_count": 27,
   "id": "89e4e3f6-1217-48c6-92d3-1c407f6a49f3",
   "metadata": {},
   "outputs": [],
   "source": [
    "tob_data.to_csv('tob_gpt_similarity.csv')"
   ]
  }
 ],
 "metadata": {
  "kernelspec": {
   "display_name": "Python 3 (ipykernel)",
   "language": "python",
   "name": "python3"
  },
  "language_info": {
   "codemirror_mode": {
    "name": "ipython",
    "version": 3
   },
   "file_extension": ".py",
   "mimetype": "text/x-python",
   "name": "python",
   "nbconvert_exporter": "python",
   "pygments_lexer": "ipython3",
   "version": "3.11.4"
  }
 },
 "nbformat": 4,
 "nbformat_minor": 5
}
