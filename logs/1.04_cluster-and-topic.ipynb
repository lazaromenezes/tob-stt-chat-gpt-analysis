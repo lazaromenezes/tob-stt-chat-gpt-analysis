{
 "cells": [
  {
   "cell_type": "code",
   "execution_count": 4,
   "id": "9b6e02f8-3237-4c05-bd76-60d91bd9b694",
   "metadata": {},
   "outputs": [],
   "source": [
    "# Cluster and Topic Modeling exploration\n",
    "# https://github.com/UKPLab/sentence-transformers/blob/master/examples/applications/clustering/agglomerative.py\n",
    "\n",
    "from sentence_transformers import SentenceTransformer\n",
    "from sklearn.cluster import AgglomerativeClustering\n",
    "import numpy as np\n",
    "import pandas as pd"
   ]
  },
  {
   "cell_type": "code",
   "execution_count": 5,
   "id": "1165b031-016b-4435-a6a5-47b135b8548a",
   "metadata": {},
   "outputs": [
    {
     "data": {
      "application/vnd.jupyter.widget-view+json": {
       "model_id": "3a574e913d224e8e96e49a6f31b99841",
       "version_major": 2,
       "version_minor": 0
      },
      "text/plain": [
       "Downloading (…)e9125/.gitattributes:   0%|          | 0.00/1.18k [00:00<?, ?B/s]"
      ]
     },
     "metadata": {},
     "output_type": "display_data"
    },
    {
     "data": {
      "application/vnd.jupyter.widget-view+json": {
       "model_id": "9e763f37789746ecb0fb586b13c828b5",
       "version_major": 2,
       "version_minor": 0
      },
      "text/plain": [
       "Downloading (…)_Pooling/config.json:   0%|          | 0.00/190 [00:00<?, ?B/s]"
      ]
     },
     "metadata": {},
     "output_type": "display_data"
    },
    {
     "data": {
      "application/vnd.jupyter.widget-view+json": {
       "model_id": "b360f6b52e814b3cb606fa438950c392",
       "version_major": 2,
       "version_minor": 0
      },
      "text/plain": [
       "Downloading (…)7e55de9125/README.md:   0%|          | 0.00/10.6k [00:00<?, ?B/s]"
      ]
     },
     "metadata": {},
     "output_type": "display_data"
    },
    {
     "data": {
      "application/vnd.jupyter.widget-view+json": {
       "model_id": "4095906922a644a196031a8dd631c5ab",
       "version_major": 2,
       "version_minor": 0
      },
      "text/plain": [
       "Downloading (…)55de9125/config.json:   0%|          | 0.00/612 [00:00<?, ?B/s]"
      ]
     },
     "metadata": {},
     "output_type": "display_data"
    },
    {
     "data": {
      "application/vnd.jupyter.widget-view+json": {
       "model_id": "85430831d02543f59bc8affbd0b179fd",
       "version_major": 2,
       "version_minor": 0
      },
      "text/plain": [
       "Downloading (…)ce_transformers.json:   0%|          | 0.00/116 [00:00<?, ?B/s]"
      ]
     },
     "metadata": {},
     "output_type": "display_data"
    },
    {
     "data": {
      "application/vnd.jupyter.widget-view+json": {
       "model_id": "cc867360930745e094516289d0abbfba",
       "version_major": 2,
       "version_minor": 0
      },
      "text/plain": [
       "Downloading (…)125/data_config.json:   0%|          | 0.00/39.3k [00:00<?, ?B/s]"
      ]
     },
     "metadata": {},
     "output_type": "display_data"
    },
    {
     "data": {
      "application/vnd.jupyter.widget-view+json": {
       "model_id": "11714e6b32fb464b80113d6774902c93",
       "version_major": 2,
       "version_minor": 0
      },
      "text/plain": [
       "Downloading pytorch_model.bin:   0%|          | 0.00/90.9M [00:00<?, ?B/s]"
      ]
     },
     "metadata": {},
     "output_type": "display_data"
    },
    {
     "data": {
      "application/vnd.jupyter.widget-view+json": {
       "model_id": "8125c256079e4fcea4a46452b124bfd2",
       "version_major": 2,
       "version_minor": 0
      },
      "text/plain": [
       "Downloading (…)nce_bert_config.json:   0%|          | 0.00/53.0 [00:00<?, ?B/s]"
      ]
     },
     "metadata": {},
     "output_type": "display_data"
    },
    {
     "data": {
      "application/vnd.jupyter.widget-view+json": {
       "model_id": "2ec0d449defd4bf696d10956e6d61482",
       "version_major": 2,
       "version_minor": 0
      },
      "text/plain": [
       "Downloading (…)cial_tokens_map.json:   0%|          | 0.00/112 [00:00<?, ?B/s]"
      ]
     },
     "metadata": {},
     "output_type": "display_data"
    },
    {
     "data": {
      "application/vnd.jupyter.widget-view+json": {
       "model_id": "9b702ae546f44f63a1a26a81ec2f3aa5",
       "version_major": 2,
       "version_minor": 0
      },
      "text/plain": [
       "Downloading (…)e9125/tokenizer.json:   0%|          | 0.00/466k [00:00<?, ?B/s]"
      ]
     },
     "metadata": {},
     "output_type": "display_data"
    },
    {
     "data": {
      "application/vnd.jupyter.widget-view+json": {
       "model_id": "a1f64ca6af2343ef86851779f51506e8",
       "version_major": 2,
       "version_minor": 0
      },
      "text/plain": [
       "Downloading (…)okenizer_config.json:   0%|          | 0.00/350 [00:00<?, ?B/s]"
      ]
     },
     "metadata": {},
     "output_type": "display_data"
    },
    {
     "data": {
      "application/vnd.jupyter.widget-view+json": {
       "model_id": "12ad4fe19e6c49c4a8be967736628192",
       "version_major": 2,
       "version_minor": 0
      },
      "text/plain": [
       "Downloading (…)9125/train_script.py:   0%|          | 0.00/13.2k [00:00<?, ?B/s]"
      ]
     },
     "metadata": {},
     "output_type": "display_data"
    },
    {
     "data": {
      "application/vnd.jupyter.widget-view+json": {
       "model_id": "99676e5b51f94b8780202a2ec7349290",
       "version_major": 2,
       "version_minor": 0
      },
      "text/plain": [
       "Downloading (…)7e55de9125/vocab.txt:   0%|          | 0.00/232k [00:00<?, ?B/s]"
      ]
     },
     "metadata": {},
     "output_type": "display_data"
    },
    {
     "data": {
      "application/vnd.jupyter.widget-view+json": {
       "model_id": "63e56ccb712c4b8ca49be2c754e16eae",
       "version_major": 2,
       "version_minor": 0
      },
      "text/plain": [
       "Downloading (…)5de9125/modules.json:   0%|          | 0.00/349 [00:00<?, ?B/s]"
      ]
     },
     "metadata": {},
     "output_type": "display_data"
    }
   ],
   "source": [
    "embedder = SentenceTransformer('all-MiniLM-L6-v2')"
   ]
  },
  {
   "cell_type": "code",
   "execution_count": 8,
   "id": "f9ebdc80-fcee-46c0-849d-17cdb3ffeddc",
   "metadata": {},
   "outputs": [
    {
     "data": {
      "text/html": [
       "<div>\n",
       "<style scoped>\n",
       "    .dataframe tbody tr th:only-of-type {\n",
       "        vertical-align: middle;\n",
       "    }\n",
       "\n",
       "    .dataframe tbody tr th {\n",
       "        vertical-align: top;\n",
       "    }\n",
       "\n",
       "    .dataframe thead th {\n",
       "        text-align: right;\n",
       "    }\n",
       "</style>\n",
       "<table border=\"1\" class=\"dataframe\">\n",
       "  <thead>\n",
       "    <tr style=\"text-align: right;\">\n",
       "      <th></th>\n",
       "      <th>user</th>\n",
       "      <th>question</th>\n",
       "      <th>answer</th>\n",
       "      <th>question_class</th>\n",
       "    </tr>\n",
       "    <tr>\n",
       "      <th>index</th>\n",
       "      <th></th>\n",
       "      <th></th>\n",
       "      <th></th>\n",
       "      <th></th>\n",
       "    </tr>\n",
       "  </thead>\n",
       "  <tbody>\n",
       "    <tr>\n",
       "      <th>0</th>\n",
       "      <td>100</td>\n",
       "      <td>hi</td>\n",
       "      <td>Hello, how are you?</td>\n",
       "      <td>Greet</td>\n",
       "    </tr>\n",
       "    <tr>\n",
       "      <th>1</th>\n",
       "      <td>100</td>\n",
       "      <td>Simone</td>\n",
       "      <td>Sorry, I still can't answer that.. Could you a...</td>\n",
       "      <td>Statement</td>\n",
       "    </tr>\n",
       "    <tr>\n",
       "      <th>2</th>\n",
       "      <td>100</td>\n",
       "      <td>I am Simone</td>\n",
       "      <td>Sorry, I still can't answer that.. Could you a...</td>\n",
       "      <td>Statement</td>\n",
       "    </tr>\n",
       "    <tr>\n",
       "      <th>3</th>\n",
       "      <td>100</td>\n",
       "      <td>what is software testing</td>\n",
       "      <td>Software testing is an activity of software en...</td>\n",
       "      <td>whQuestion</td>\n",
       "    </tr>\n",
       "    <tr>\n",
       "      <th>4</th>\n",
       "      <td>100</td>\n",
       "      <td>what is structural testing</td>\n",
       "      <td>Structural testing (or White-Box testing) is a...</td>\n",
       "      <td>whQuestion</td>\n",
       "    </tr>\n",
       "  </tbody>\n",
       "</table>\n",
       "</div>"
      ],
      "text/plain": [
       "       user                    question  \\\n",
       "index                                     \n",
       "0       100                          hi   \n",
       "1       100                      Simone   \n",
       "2       100                 I am Simone   \n",
       "3       100    what is software testing   \n",
       "4       100  what is structural testing   \n",
       "\n",
       "                                                  answer question_class  \n",
       "index                                                                    \n",
       "0                                    Hello, how are you?          Greet  \n",
       "1      Sorry, I still can't answer that.. Could you a...      Statement  \n",
       "2      Sorry, I still can't answer that.. Could you a...      Statement  \n",
       "3      Software testing is an activity of software en...     whQuestion  \n",
       "4      Structural testing (or White-Box testing) is a...     whQuestion  "
      ]
     },
     "execution_count": 8,
     "metadata": {},
     "output_type": "execute_result"
    }
   ],
   "source": [
    "tob = pd.read_csv('./tob_v1_classified.csv', index_col='index')\n",
    "\n",
    "tob.head()"
   ]
  },
  {
   "cell_type": "code",
   "execution_count": 10,
   "id": "73a75b69-6070-45ab-b86e-04517d46961f",
   "metadata": {},
   "outputs": [
    {
     "data": {
      "text/plain": [
       "array([[-0.09047619,  0.04043957,  0.02390568, ...,  0.06815036,\n",
       "         0.01786567,  0.01127626],\n",
       "       [-0.08309868, -0.0599528 ,  0.01865478, ..., -0.03056165,\n",
       "        -0.0363641 , -0.15343234],\n",
       "       [-0.03010819, -0.04681816,  0.07195324, ..., -0.01680324,\n",
       "        -0.05603674, -0.19724695],\n",
       "       ...,\n",
       "       [-0.05213145,  0.01008251, -0.09586437, ...,  0.02771363,\n",
       "        -0.02413042, -0.10155366],\n",
       "       [-0.09047616,  0.04043955,  0.02390566, ...,  0.06815033,\n",
       "         0.01786565,  0.01127623],\n",
       "       [ 0.01000331, -0.06694853, -0.02342124, ...,  0.04776511,\n",
       "        -0.03691382,  0.02372807]], dtype=float32)"
      ]
     },
     "execution_count": 10,
     "metadata": {},
     "output_type": "execute_result"
    }
   ],
   "source": [
    "embedings = embedder.encode(tob['question'].values)\n",
    "embedings"
   ]
  },
  {
   "cell_type": "code",
   "execution_count": 13,
   "id": "ad82a7f7-0b28-4153-86a1-e5e8152b6ef7",
   "metadata": {},
   "outputs": [
    {
     "data": {
      "text/plain": [
       "array([[-0.09047619,  0.04043958,  0.02390568, ...,  0.06815037,\n",
       "         0.01786567,  0.01127626],\n",
       "       [-0.08309869, -0.0599528 ,  0.01865478, ..., -0.03056165,\n",
       "        -0.03636411, -0.15343235],\n",
       "       [-0.03010819, -0.04681816,  0.07195324, ..., -0.01680324,\n",
       "        -0.05603674, -0.19724695],\n",
       "       ...,\n",
       "       [-0.05213145,  0.01008251, -0.09586437, ...,  0.02771363,\n",
       "        -0.02413042, -0.10155366],\n",
       "       [-0.09047617,  0.04043956,  0.02390566, ...,  0.06815033,\n",
       "         0.01786566,  0.01127623],\n",
       "       [ 0.01000331, -0.06694853, -0.02342124, ...,  0.04776511,\n",
       "        -0.03691382,  0.02372807]], dtype=float32)"
      ]
     },
     "execution_count": 13,
     "metadata": {},
     "output_type": "execute_result"
    }
   ],
   "source": [
    "# Normalize the embeddings to unit length\n",
    "embedings = embedings /  np.linalg.norm(embedings, axis=1, keepdims=True)\n",
    "embedings"
   ]
  },
  {
   "cell_type": "code",
   "execution_count": 14,
   "id": "04f01b7f-b84d-4abc-a48a-d61d3abc174e",
   "metadata": {},
   "outputs": [
    {
     "data": {
      "text/plain": [
       "array([196, 235, 235, ...,   7, 196, 144])"
      ]
     },
     "execution_count": 14,
     "metadata": {},
     "output_type": "execute_result"
    }
   ],
   "source": [
    "# Perform kmean clustering\n",
    "clustering_model = AgglomerativeClustering(n_clusters=None, distance_threshold=1.5) #, affinity='cosine', linkage='average', distance_threshold=0.4)\n",
    "clustering_model.fit(embedings)\n",
    "cluster_assignment = clustering_model.labels_\n",
    "\n",
    "cluster_assignment"
   ]
  },
  {
   "cell_type": "code",
   "execution_count": 15,
   "id": "a70819b0-984c-4b08-91a2-4689270c8057",
   "metadata": {},
   "outputs": [],
   "source": [
    "tob['question_cluster'] = cluster_assignment"
   ]
  },
  {
   "cell_type": "code",
   "execution_count": 16,
   "id": "f5e9ad0a-c9c9-4ef3-8803-44a6eb381f58",
   "metadata": {},
   "outputs": [
    {
     "data": {
      "text/html": [
       "<div>\n",
       "<style scoped>\n",
       "    .dataframe tbody tr th:only-of-type {\n",
       "        vertical-align: middle;\n",
       "    }\n",
       "\n",
       "    .dataframe tbody tr th {\n",
       "        vertical-align: top;\n",
       "    }\n",
       "\n",
       "    .dataframe thead th {\n",
       "        text-align: right;\n",
       "    }\n",
       "</style>\n",
       "<table border=\"1\" class=\"dataframe\">\n",
       "  <thead>\n",
       "    <tr style=\"text-align: right;\">\n",
       "      <th></th>\n",
       "      <th>user</th>\n",
       "      <th>question</th>\n",
       "      <th>answer</th>\n",
       "      <th>question_class</th>\n",
       "      <th>question_cluster</th>\n",
       "    </tr>\n",
       "    <tr>\n",
       "      <th>index</th>\n",
       "      <th></th>\n",
       "      <th></th>\n",
       "      <th></th>\n",
       "      <th></th>\n",
       "      <th></th>\n",
       "    </tr>\n",
       "  </thead>\n",
       "  <tbody>\n",
       "    <tr>\n",
       "      <th>0</th>\n",
       "      <td>100</td>\n",
       "      <td>hi</td>\n",
       "      <td>Hello, how are you?</td>\n",
       "      <td>Greet</td>\n",
       "      <td>196</td>\n",
       "    </tr>\n",
       "    <tr>\n",
       "      <th>1</th>\n",
       "      <td>100</td>\n",
       "      <td>Simone</td>\n",
       "      <td>Sorry, I still can't answer that.. Could you a...</td>\n",
       "      <td>Statement</td>\n",
       "      <td>235</td>\n",
       "    </tr>\n",
       "    <tr>\n",
       "      <th>2</th>\n",
       "      <td>100</td>\n",
       "      <td>I am Simone</td>\n",
       "      <td>Sorry, I still can't answer that.. Could you a...</td>\n",
       "      <td>Statement</td>\n",
       "      <td>235</td>\n",
       "    </tr>\n",
       "    <tr>\n",
       "      <th>3</th>\n",
       "      <td>100</td>\n",
       "      <td>what is software testing</td>\n",
       "      <td>Software testing is an activity of software en...</td>\n",
       "      <td>whQuestion</td>\n",
       "      <td>118</td>\n",
       "    </tr>\n",
       "    <tr>\n",
       "      <th>4</th>\n",
       "      <td>100</td>\n",
       "      <td>what is structural testing</td>\n",
       "      <td>Structural testing (or White-Box testing) is a...</td>\n",
       "      <td>whQuestion</td>\n",
       "      <td>23</td>\n",
       "    </tr>\n",
       "  </tbody>\n",
       "</table>\n",
       "</div>"
      ],
      "text/plain": [
       "       user                    question  \\\n",
       "index                                     \n",
       "0       100                          hi   \n",
       "1       100                      Simone   \n",
       "2       100                 I am Simone   \n",
       "3       100    what is software testing   \n",
       "4       100  what is structural testing   \n",
       "\n",
       "                                                  answer question_class  \\\n",
       "index                                                                     \n",
       "0                                    Hello, how are you?          Greet   \n",
       "1      Sorry, I still can't answer that.. Could you a...      Statement   \n",
       "2      Sorry, I still can't answer that.. Could you a...      Statement   \n",
       "3      Software testing is an activity of software en...     whQuestion   \n",
       "4      Structural testing (or White-Box testing) is a...     whQuestion   \n",
       "\n",
       "       question_cluster  \n",
       "index                    \n",
       "0                   196  \n",
       "1                   235  \n",
       "2                   235  \n",
       "3                   118  \n",
       "4                    23  "
      ]
     },
     "execution_count": 16,
     "metadata": {},
     "output_type": "execute_result"
    }
   ],
   "source": [
    "tob.head()"
   ]
  },
  {
   "cell_type": "code",
   "execution_count": 17,
   "id": "323adad6-972f-44d8-b8b2-8ce43c9e0697",
   "metadata": {},
   "outputs": [
    {
     "data": {
      "text/plain": [
       "question_cluster\n",
       "256    164\n",
       "196    107\n",
       "118     75\n",
       "199     71\n",
       "162     69\n",
       "      ... \n",
       "230      2\n",
       "240      2\n",
       "246      2\n",
       "109      2\n",
       "231      2\n",
       "Name: count, Length: 267, dtype: int64"
      ]
     },
     "execution_count": 17,
     "metadata": {},
     "output_type": "execute_result"
    }
   ],
   "source": [
    "tob.value_counts('question_cluster')"
   ]
  },
  {
   "cell_type": "code",
   "execution_count": 44,
   "id": "5d620edd-c306-4f7d-9006-b351058853d6",
   "metadata": {},
   "outputs": [
    {
     "data": {
      "text/html": [
       "<div>\n",
       "<style scoped>\n",
       "    .dataframe tbody tr th:only-of-type {\n",
       "        vertical-align: middle;\n",
       "    }\n",
       "\n",
       "    .dataframe tbody tr th {\n",
       "        vertical-align: top;\n",
       "    }\n",
       "\n",
       "    .dataframe thead th {\n",
       "        text-align: right;\n",
       "    }\n",
       "</style>\n",
       "<table border=\"1\" class=\"dataframe\">\n",
       "  <thead>\n",
       "    <tr style=\"text-align: right;\">\n",
       "      <th></th>\n",
       "      <th>user</th>\n",
       "      <th>question</th>\n",
       "      <th>answer</th>\n",
       "      <th>question_class</th>\n",
       "      <th>question_cluster</th>\n",
       "    </tr>\n",
       "    <tr>\n",
       "      <th>index</th>\n",
       "      <th></th>\n",
       "      <th></th>\n",
       "      <th></th>\n",
       "      <th></th>\n",
       "      <th></th>\n",
       "    </tr>\n",
       "  </thead>\n",
       "  <tbody>\n",
       "    <tr>\n",
       "      <th>0</th>\n",
       "      <td>100</td>\n",
       "      <td>hi</td>\n",
       "      <td>Hello, how are you?</td>\n",
       "      <td>Greet</td>\n",
       "      <td>196</td>\n",
       "    </tr>\n",
       "    <tr>\n",
       "      <th>27</th>\n",
       "      <td>100</td>\n",
       "      <td>Hi</td>\n",
       "      <td>Hello, ask me a question!</td>\n",
       "      <td>Greet</td>\n",
       "      <td>196</td>\n",
       "    </tr>\n",
       "    <tr>\n",
       "      <th>31</th>\n",
       "      <td>101</td>\n",
       "      <td>hi</td>\n",
       "      <td>Hi there, what do you need?</td>\n",
       "      <td>Greet</td>\n",
       "      <td>196</td>\n",
       "    </tr>\n",
       "    <tr>\n",
       "      <th>45</th>\n",
       "      <td>102</td>\n",
       "      <td>Hi</td>\n",
       "      <td>Welcome!</td>\n",
       "      <td>Greet</td>\n",
       "      <td>196</td>\n",
       "    </tr>\n",
       "    <tr>\n",
       "      <th>47</th>\n",
       "      <td>103</td>\n",
       "      <td>hi</td>\n",
       "      <td>Welcome!</td>\n",
       "      <td>Greet</td>\n",
       "      <td>196</td>\n",
       "    </tr>\n",
       "    <tr>\n",
       "      <th>...</th>\n",
       "      <td>...</td>\n",
       "      <td>...</td>\n",
       "      <td>...</td>\n",
       "      <td>...</td>\n",
       "      <td>...</td>\n",
       "    </tr>\n",
       "    <tr>\n",
       "      <th>2675</th>\n",
       "      <td>91</td>\n",
       "      <td>Hi</td>\n",
       "      <td>I don't know how to respond this</td>\n",
       "      <td>Greet</td>\n",
       "      <td>196</td>\n",
       "    </tr>\n",
       "    <tr>\n",
       "      <th>2678</th>\n",
       "      <td>92</td>\n",
       "      <td>Hi</td>\n",
       "      <td>I don't know how to respond this</td>\n",
       "      <td>Greet</td>\n",
       "      <td>196</td>\n",
       "    </tr>\n",
       "    <tr>\n",
       "      <th>2697</th>\n",
       "      <td>93</td>\n",
       "      <td>hi</td>\n",
       "      <td>Hi there</td>\n",
       "      <td>Greet</td>\n",
       "      <td>196</td>\n",
       "    </tr>\n",
       "    <tr>\n",
       "      <th>2711</th>\n",
       "      <td>93</td>\n",
       "      <td>hi</td>\n",
       "      <td>Hey!</td>\n",
       "      <td>Greet</td>\n",
       "      <td>196</td>\n",
       "    </tr>\n",
       "    <tr>\n",
       "      <th>2987</th>\n",
       "      <td>99</td>\n",
       "      <td>Hi</td>\n",
       "      <td>Hello, ask me a question!</td>\n",
       "      <td>Greet</td>\n",
       "      <td>196</td>\n",
       "    </tr>\n",
       "  </tbody>\n",
       "</table>\n",
       "<p>107 rows × 5 columns</p>\n",
       "</div>"
      ],
      "text/plain": [
       "       user question                            answer question_class  \\\n",
       "index                                                                   \n",
       "0       100       hi               Hello, how are you?          Greet   \n",
       "27      100       Hi         Hello, ask me a question!          Greet   \n",
       "31      101       hi       Hi there, what do you need?          Greet   \n",
       "45      102       Hi                          Welcome!          Greet   \n",
       "47      103       hi                          Welcome!          Greet   \n",
       "...     ...      ...                               ...            ...   \n",
       "2675     91       Hi  I don't know how to respond this          Greet   \n",
       "2678     92       Hi  I don't know how to respond this          Greet   \n",
       "2697     93       hi                          Hi there          Greet   \n",
       "2711     93       hi                              Hey!          Greet   \n",
       "2987     99       Hi         Hello, ask me a question!          Greet   \n",
       "\n",
       "       question_cluster  \n",
       "index                    \n",
       "0                   196  \n",
       "27                  196  \n",
       "31                  196  \n",
       "45                  196  \n",
       "47                  196  \n",
       "...                 ...  \n",
       "2675                196  \n",
       "2678                196  \n",
       "2697                196  \n",
       "2711                196  \n",
       "2987                196  \n",
       "\n",
       "[107 rows x 5 columns]"
      ]
     },
     "execution_count": 44,
     "metadata": {},
     "output_type": "execute_result"
    }
   ],
   "source": [
    "tob[tob['question_cluster'] == 196]"
   ]
  },
  {
   "cell_type": "code",
   "execution_count": 40,
   "id": "64c4618c-9153-4a6b-a6a5-bb2beb31c7dc",
   "metadata": {},
   "outputs": [
    {
     "data": {
      "text/html": [
       "<div>\n",
       "<style scoped>\n",
       "    .dataframe tbody tr th:only-of-type {\n",
       "        vertical-align: middle;\n",
       "    }\n",
       "\n",
       "    .dataframe tbody tr th {\n",
       "        vertical-align: top;\n",
       "    }\n",
       "\n",
       "    .dataframe thead th {\n",
       "        text-align: right;\n",
       "    }\n",
       "</style>\n",
       "<table border=\"1\" class=\"dataframe\">\n",
       "  <thead>\n",
       "    <tr style=\"text-align: right;\">\n",
       "      <th></th>\n",
       "      <th>user</th>\n",
       "      <th>question</th>\n",
       "      <th>question_class</th>\n",
       "      <th>answer_v1</th>\n",
       "      <th>answer_v2</th>\n",
       "      <th>v1_x_v2</th>\n",
       "    </tr>\n",
       "    <tr>\n",
       "      <th>index</th>\n",
       "      <th></th>\n",
       "      <th></th>\n",
       "      <th></th>\n",
       "      <th></th>\n",
       "      <th></th>\n",
       "      <th></th>\n",
       "    </tr>\n",
       "  </thead>\n",
       "  <tbody>\n",
       "    <tr>\n",
       "      <th>0</th>\n",
       "      <td>100</td>\n",
       "      <td>hi</td>\n",
       "      <td>Greet</td>\n",
       "      <td>Hello, how are you?</td>\n",
       "      <td>Hi</td>\n",
       "      <td>0.618338</td>\n",
       "    </tr>\n",
       "    <tr>\n",
       "      <th>1</th>\n",
       "      <td>100</td>\n",
       "      <td>Simone</td>\n",
       "      <td>Statement</td>\n",
       "      <td>Sorry, I still can't answer that.. Could you a...</td>\n",
       "      <td>Hi</td>\n",
       "      <td>0.117703</td>\n",
       "    </tr>\n",
       "    <tr>\n",
       "      <th>2</th>\n",
       "      <td>100</td>\n",
       "      <td>I am Simone</td>\n",
       "      <td>Statement</td>\n",
       "      <td>Sorry, I still can't answer that.. Could you a...</td>\n",
       "      <td>Sorry, I didn't understand your question, coul...</td>\n",
       "      <td>0.575173</td>\n",
       "    </tr>\n",
       "    <tr>\n",
       "      <th>3</th>\n",
       "      <td>100</td>\n",
       "      <td>what is software testing</td>\n",
       "      <td>whQuestion</td>\n",
       "      <td>Software testing is an activity of software en...</td>\n",
       "      <td>Software testing is an activity of software en...</td>\n",
       "      <td>0.998822</td>\n",
       "    </tr>\n",
       "    <tr>\n",
       "      <th>4</th>\n",
       "      <td>100</td>\n",
       "      <td>what is structural testing</td>\n",
       "      <td>whQuestion</td>\n",
       "      <td>Structural testing (or White-Box testing) is a...</td>\n",
       "      <td>Structural testing (or White-Box testing) is a...</td>\n",
       "      <td>1.000000</td>\n",
       "    </tr>\n",
       "    <tr>\n",
       "      <th>...</th>\n",
       "      <td>...</td>\n",
       "      <td>...</td>\n",
       "      <td>...</td>\n",
       "      <td>...</td>\n",
       "      <td>...</td>\n",
       "      <td>...</td>\n",
       "    </tr>\n",
       "    <tr>\n",
       "      <th>2984</th>\n",
       "      <td>98</td>\n",
       "      <td>what is the definition of state transition tes...</td>\n",
       "      <td>whQuestion</td>\n",
       "      <td>It is a criteria within functional testing, bu...</td>\n",
       "      <td>I don't understand what you mean</td>\n",
       "      <td>0.136184</td>\n",
       "    </tr>\n",
       "    <tr>\n",
       "      <th>2985</th>\n",
       "      <td>98</td>\n",
       "      <td>what is graph testing</td>\n",
       "      <td>whQuestion</td>\n",
       "      <td>Software testing is an activity of software en...</td>\n",
       "      <td>I don't understand what you mean</td>\n",
       "      <td>-0.001124</td>\n",
       "    </tr>\n",
       "    <tr>\n",
       "      <th>2986</th>\n",
       "      <td>98</td>\n",
       "      <td>what is graph matrix testing</td>\n",
       "      <td>whQuestion</td>\n",
       "      <td>It is a criteria within functional testing, bu...</td>\n",
       "      <td>Software testing is an activity of software en...</td>\n",
       "      <td>0.409774</td>\n",
       "    </tr>\n",
       "    <tr>\n",
       "      <th>2987</th>\n",
       "      <td>99</td>\n",
       "      <td>Hi</td>\n",
       "      <td>Greet</td>\n",
       "      <td>Hello, ask me a question!</td>\n",
       "      <td>Hi</td>\n",
       "      <td>0.556563</td>\n",
       "    </tr>\n",
       "    <tr>\n",
       "      <th>2988</th>\n",
       "      <td>99</td>\n",
       "      <td>Talk to me about software testing activity</td>\n",
       "      <td>Statement</td>\n",
       "      <td>Sorry, I still can't answer that.. Could you a...</td>\n",
       "      <td>Sorry, I didn't quite catch that</td>\n",
       "      <td>0.269803</td>\n",
       "    </tr>\n",
       "  </tbody>\n",
       "</table>\n",
       "<p>2989 rows × 6 columns</p>\n",
       "</div>"
      ],
      "text/plain": [
       "       user                                           question question_class  \\\n",
       "index                                                                           \n",
       "0       100                                                 hi          Greet   \n",
       "1       100                                             Simone      Statement   \n",
       "2       100                                        I am Simone      Statement   \n",
       "3       100                           what is software testing     whQuestion   \n",
       "4       100                         what is structural testing     whQuestion   \n",
       "...     ...                                                ...            ...   \n",
       "2984     98  what is the definition of state transition tes...     whQuestion   \n",
       "2985     98                              what is graph testing     whQuestion   \n",
       "2986     98                       what is graph matrix testing     whQuestion   \n",
       "2987     99                                                 Hi          Greet   \n",
       "2988     99         Talk to me about software testing activity      Statement   \n",
       "\n",
       "                                               answer_v1  \\\n",
       "index                                                      \n",
       "0                                    Hello, how are you?   \n",
       "1      Sorry, I still can't answer that.. Could you a...   \n",
       "2      Sorry, I still can't answer that.. Could you a...   \n",
       "3      Software testing is an activity of software en...   \n",
       "4      Structural testing (or White-Box testing) is a...   \n",
       "...                                                  ...   \n",
       "2984   It is a criteria within functional testing, bu...   \n",
       "2985   Software testing is an activity of software en...   \n",
       "2986   It is a criteria within functional testing, bu...   \n",
       "2987                           Hello, ask me a question!   \n",
       "2988   Sorry, I still can't answer that.. Could you a...   \n",
       "\n",
       "                                               answer_v2   v1_x_v2  \n",
       "index                                                               \n",
       "0                                                     Hi  0.618338  \n",
       "1                                                     Hi  0.117703  \n",
       "2      Sorry, I didn't understand your question, coul...  0.575173  \n",
       "3      Software testing is an activity of software en...  0.998822  \n",
       "4      Structural testing (or White-Box testing) is a...  1.000000  \n",
       "...                                                  ...       ...  \n",
       "2984                    I don't understand what you mean  0.136184  \n",
       "2985                    I don't understand what you mean -0.001124  \n",
       "2986   Software testing is an activity of software en...  0.409774  \n",
       "2987                                                  Hi  0.556563  \n",
       "2988                    Sorry, I didn't quite catch that  0.269803  \n",
       "\n",
       "[2989 rows x 6 columns]"
      ]
     },
     "execution_count": 40,
     "metadata": {},
     "output_type": "execute_result"
    }
   ],
   "source": [
    "tob12 = pd.read_csv('./tob_v1_x_v2.csv', index_col='index')\n",
    "tob12"
   ]
  },
  {
   "cell_type": "code",
   "execution_count": 41,
   "id": "39b26024-e39d-4020-874c-d8d68456edb2",
   "metadata": {},
   "outputs": [],
   "source": [
    "tob12 = tob12.join(tob['question_cluster'], on='index', how='inner')\n",
    "\n",
    "tob12 = tob12[[\"user\", \"question\", \"question_class\", \"question_cluster\", \"answer_v1\", \"answer_v2\", \"v1_x_v2\"]]\n",
    "tob12 = tob12.rename({\"v1_x_v2\": \"v1_v2_similarity\"})"
   ]
  },
  {
   "cell_type": "code",
   "execution_count": 42,
   "id": "708e1dd7-0947-4f64-9d61-38c2d01610ca",
   "metadata": {},
   "outputs": [],
   "source": [
    "tob12.to_csv('./tob_question_cluster.csv')"
   ]
  }
 ],
 "metadata": {
  "kernelspec": {
   "display_name": "Python 3 (ipykernel)",
   "language": "python",
   "name": "python3"
  },
  "language_info": {
   "codemirror_mode": {
    "name": "ipython",
    "version": 3
   },
   "file_extension": ".py",
   "mimetype": "text/x-python",
   "name": "python",
   "nbconvert_exporter": "python",
   "pygments_lexer": "ipython3",
   "version": "3.11.4"
  }
 },
 "nbformat": 4,
 "nbformat_minor": 5
}
