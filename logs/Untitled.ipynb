{
 "cells": [
  {
   "cell_type": "code",
   "execution_count": 4,
   "id": "e3e58db0-715a-42bb-925c-4b24e45fe798",
   "metadata": {},
   "outputs": [
    {
     "data": {
      "text/plain": [
       "<OpenAIObject chat.completion id=chatcmpl-814zgfYxDRPxnlXNWI32HzCiFwgr3 at 0x7fc49d032390> JSON: {\n",
       "  \"id\": \"chatcmpl-814zgfYxDRPxnlXNWI32HzCiFwgr3\",\n",
       "  \"object\": \"chat.completion\",\n",
       "  \"created\": 1695268216,\n",
       "  \"model\": \"gpt-3.5-turbo-16k-0613\",\n",
       "  \"choices\": [\n",
       "    {\n",
       "      \"index\": 0,\n",
       "      \"message\": {\n",
       "        \"role\": \"assistant\",\n",
       "        \"content\": \"Sure! Here's an example:\\n\\nLet's say you have a program that is supposed to calculate the average of a set of numbers. However, there is a fault in the program where instead of dividing the sum by the total number of elements, it accidentally multiplies the sum by the total number of elements. As a result, the calculated average will be incorrect, leading to faulty results in any further calculations or outputs based on that average.\"\n",
       "      },\n",
       "      \"finish_reason\": \"stop\"\n",
       "    }\n",
       "  ],\n",
       "  \"usage\": {\n",
       "    \"prompt_tokens\": 74,\n",
       "    \"completion_tokens\": 88,\n",
       "    \"total_tokens\": 162\n",
       "  }\n",
       "}"
      ]
     },
     "execution_count": 4,
     "metadata": {},
     "output_type": "execute_result"
    }
   ],
   "source": [
    "import openai\n",
    "openai.api_key = \"sk-***\"\n",
    "\n",
    "contextual_messages = [\n",
    "    {'role': 'user', 'content': 'what is a fault'},\n",
    "    {'role': 'assistant', 'content': 'Fault is an incorrect step, process, or data definition in computer program. Fault is the formal name of a bug.'},\n",
    "    {'role': 'user', 'content': 'give a exempla'},\n",
    "    {'role': 'user', 'content': \"Sorry, I still can't answer that.. Could you ask me differently?\"},\n",
    "    {'role': 'user', 'content': 'give me a example'},\n",
    "]\n",
    "\n",
    "gpt_response = openai.ChatCompletion.create(model=\"gpt-3.5-turbo-16k\", messages=contextual_messages)\n",
    "\n",
    "gpt_response"
   ]
  },
  {
   "cell_type": "code",
   "execution_count": 6,
   "id": "2cc66806-12ac-462f-abf0-5fe7743f8212",
   "metadata": {},
   "outputs": [
    {
     "data": {
      "text/plain": [
       "<OpenAIObject chat.completion id=chatcmpl-815IZoB6oosKsE2iSclTpYHy2Yh0H at 0x7fc49d032510> JSON: {\n",
       "  \"id\": \"chatcmpl-815IZoB6oosKsE2iSclTpYHy2Yh0H\",\n",
       "  \"object\": \"chat.completion\",\n",
       "  \"created\": 1695269387,\n",
       "  \"model\": \"gpt-3.5-turbo-16k-0613\",\n",
       "  \"choices\": [\n",
       "    {\n",
       "      \"index\": 0,\n",
       "      \"message\": {\n",
       "        \"role\": \"assistant\",\n",
       "        \"content\": \"A fault is a fracture or discontinuity in the Earth\\u2019s crust where rocks on either side have moved relative to each other. It is a result of tectonic forces and can range in size from small, barely noticeable cracks to large, significant displacements. Faults are responsible for the majority of earthquakes and are classified based on the direction of the movement of the rocks, such as normal faults (where rocks move apart), reverse faults (where rocks move together), and strike-slip faults (where rocks slide past each other horizontally).\"\n",
       "      },\n",
       "      \"finish_reason\": \"stop\"\n",
       "    }\n",
       "  ],\n",
       "  \"usage\": {\n",
       "    \"prompt_tokens\": 11,\n",
       "    \"completion_tokens\": 107,\n",
       "    \"total_tokens\": 118\n",
       "  }\n",
       "}"
      ]
     },
     "execution_count": 6,
     "metadata": {},
     "output_type": "execute_result"
    }
   ],
   "source": [
    "import openai\n",
    "openai.api_key = \"sk-***\"\n",
    "\n",
    "messages = [\n",
    "    {'role': 'user', 'content': 'what is a fault'},\n",
    "]\n",
    "\n",
    "gpt_response = openai.ChatCompletion.create(model=\"gpt-3.5-turbo-16k\", messages=messages)\n",
    "\n",
    "gpt_response"
   ]
  },
  {
   "cell_type": "code",
   "execution_count": 8,
   "id": "c0105f5d-77a7-488e-97f4-5603b07353de",
   "metadata": {},
   "outputs": [
    {
     "data": {
      "text/plain": [
       "<OpenAIObject chat.completion id=chatcmpl-815UFDrQMKokAnPaPmls0cgf2JHO2 at 0x7fc49d032c90> JSON: {\n",
       "  \"id\": \"chatcmpl-815UFDrQMKokAnPaPmls0cgf2JHO2\",\n",
       "  \"object\": \"chat.completion\",\n",
       "  \"created\": 1695270111,\n",
       "  \"model\": \"gpt-3.5-turbo-16k-0613\",\n",
       "  \"choices\": [\n",
       "    {\n",
       "      \"index\": 0,\n",
       "      \"message\": {\n",
       "        \"role\": \"assistant\",\n",
       "        \"content\": \"A fault, also known as a defect or bug, is a malfunction or deviation from the expected behavior of a software system. It refers to a mistake or an error that, when executed, can result in the failure of the system to perform its intended functions. A fault can be a coding mistake, a design flaw, or any other instance where the software does not behave as intended. Faults are typically discovered during the testing phase of software development but can also be detected in production environments.\"\n",
       "      },\n",
       "      \"finish_reason\": \"stop\"\n",
       "    }\n",
       "  ],\n",
       "  \"usage\": {\n",
       "    \"prompt_tokens\": 27,\n",
       "    \"completion_tokens\": 98,\n",
       "    \"total_tokens\": 125\n",
       "  }\n",
       "}"
      ]
     },
     "execution_count": 8,
     "metadata": {},
     "output_type": "execute_result"
    }
   ],
   "source": [
    "messages = [\n",
    "    {'role': 'system', 'content': \"you are a chatbot designed to help students learning software testing\"},\n",
    "    {'role': 'user', 'content': 'what is a fault'},\n",
    "]\n",
    "\n",
    "gpt_response = openai.ChatCompletion.create(model=\"gpt-3.5-turbo-16k\", messages=messages)\n",
    "\n",
    "gpt_response"
   ]
  },
  {
   "cell_type": "code",
   "execution_count": 12,
   "id": "ea460650-ae90-4cf4-a3f8-d9adaec988cf",
   "metadata": {},
   "outputs": [],
   "source": [
    "from sentence_transformers import SentenceTransformer, util\n",
    "\n",
    "encoder = SentenceTransformer('all-mpnet-base-v2')\n",
    "\n",
    "def compare_answers(base, other):\n",
    "    base_embedings = encoder.encode(base)\n",
    "    other_embedings = encoder.encode(other)\n",
    "\n",
    "    cosine_similarity = util.cos_sim(base_embedings, other_embedings)\n",
    "\n",
    "    return cosine_similarity.item()"
   ]
  },
  {
   "cell_type": "code",
   "execution_count": 15,
   "id": "95ecf3ed-4175-4c4a-a6ad-7d4aee2ebed7",
   "metadata": {},
   "outputs": [
    {
     "data": {
      "text/plain": [
       "0.39983227849006653"
      ]
     },
     "execution_count": 15,
     "metadata": {},
     "output_type": "execute_result"
    }
   ],
   "source": [
    "compare_answers('I do not know how to answer that', 'Sorry, I can not answer that')"
   ]
  }
 ],
 "metadata": {
  "kernelspec": {
   "display_name": "Python 3 (ipykernel)",
   "language": "python",
   "name": "python3"
  },
  "language_info": {
   "codemirror_mode": {
    "name": "ipython",
    "version": 3
   },
   "file_extension": ".py",
   "mimetype": "text/x-python",
   "name": "python",
   "nbconvert_exporter": "python",
   "pygments_lexer": "ipython3",
   "version": "3.11.4"
  }
 },
 "nbformat": 4,
 "nbformat_minor": 5
}
